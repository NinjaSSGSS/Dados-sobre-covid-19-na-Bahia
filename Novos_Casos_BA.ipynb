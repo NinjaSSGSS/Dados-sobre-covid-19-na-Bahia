{
  "nbformat": 4,
  "nbformat_minor": 0,
  "metadata": {
    "colab": {
      "name": "Novos Casos_BA",
      "provenance": [],
      "collapsed_sections": [],
      "mount_file_id": "1O3kuc80qU6E-qtnbukq12QuK93vkgJeg",
      "authorship_tag": "ABX9TyN/gc57Tb1o1XyBLFJpCQoA",
      "include_colab_link": true
    },
    "kernelspec": {
      "name": "python3",
      "display_name": "Python 3"
    }
  },
  "cells": [
    {
      "cell_type": "markdown",
      "metadata": {
        "id": "view-in-github",
        "colab_type": "text"
      },
      "source": [
        "<a href=\"https://colab.research.google.com/github/NinjaSSGSS/Dados-sobre-covid-19-na-Bahia/blob/master/Novos_Casos_BA.ipynb\" target=\"_parent\"><img src=\"https://colab.research.google.com/assets/colab-badge.svg\" alt=\"Open In Colab\"/></a>"
      ]
    },
    {
      "cell_type": "code",
      "metadata": {
        "id": "gKfzvwSlcvWz",
        "colab_type": "code",
        "colab": {}
      },
      "source": [
        "import pandas as pd\n",
        "import plotly.offline as py\n",
        "import plotly\n",
        "import plotly.graph_objs as go\n",
        "import shutil\n",
        "import os\n",
        "\n",
        "arquivo = pd.read_csv('/content/drive/My Drive/Git Hub/covid19br/cases-brazil-states.csv')"
      ],
      "execution_count": 0,
      "outputs": []
    },
    {
      "cell_type": "code",
      "metadata": {
        "id": "ErQj82y7q_eL",
        "colab_type": "code",
        "outputId": "6c38d17c-27b2-4236-f1d0-fd62a9341c9d",
        "colab": {
          "base_uri": "https://localhost:8080/",
          "height": 309
        }
      },
      "source": [
        "arquivo.head()"
      ],
      "execution_count": 0,
      "outputs": [
        {
          "output_type": "execute_result",
          "data": {
            "text/html": [
              "<div>\n",
              "<style scoped>\n",
              "    .dataframe tbody tr th:only-of-type {\n",
              "        vertical-align: middle;\n",
              "    }\n",
              "\n",
              "    .dataframe tbody tr th {\n",
              "        vertical-align: top;\n",
              "    }\n",
              "\n",
              "    .dataframe thead th {\n",
              "        text-align: right;\n",
              "    }\n",
              "</style>\n",
              "<table border=\"1\" class=\"dataframe\">\n",
              "  <thead>\n",
              "    <tr style=\"text-align: right;\">\n",
              "      <th></th>\n",
              "      <th>date</th>\n",
              "      <th>country</th>\n",
              "      <th>state</th>\n",
              "      <th>city</th>\n",
              "      <th>newDeaths</th>\n",
              "      <th>deaths</th>\n",
              "      <th>newCases</th>\n",
              "      <th>totalCases</th>\n",
              "      <th>deathsMS</th>\n",
              "      <th>totalCasesMS</th>\n",
              "      <th>deaths_per_100k_inhabitants</th>\n",
              "      <th>totalCases_per_100k_inhabitants</th>\n",
              "      <th>deaths_by_totalCases</th>\n",
              "      <th>recovered</th>\n",
              "    </tr>\n",
              "  </thead>\n",
              "  <tbody>\n",
              "    <tr>\n",
              "      <th>0</th>\n",
              "      <td>2020-02-25</td>\n",
              "      <td>Brazil</td>\n",
              "      <td>SP</td>\n",
              "      <td>TOTAL</td>\n",
              "      <td>0</td>\n",
              "      <td>0</td>\n",
              "      <td>1</td>\n",
              "      <td>1</td>\n",
              "      <td>0</td>\n",
              "      <td>0</td>\n",
              "      <td>0.0</td>\n",
              "      <td>0.00218</td>\n",
              "      <td>0.0</td>\n",
              "      <td>NaN</td>\n",
              "    </tr>\n",
              "    <tr>\n",
              "      <th>1</th>\n",
              "      <td>2020-02-25</td>\n",
              "      <td>Brazil</td>\n",
              "      <td>TOTAL</td>\n",
              "      <td>TOTAL</td>\n",
              "      <td>0</td>\n",
              "      <td>0</td>\n",
              "      <td>1</td>\n",
              "      <td>1</td>\n",
              "      <td>0</td>\n",
              "      <td>0</td>\n",
              "      <td>0.0</td>\n",
              "      <td>0.00048</td>\n",
              "      <td>0.0</td>\n",
              "      <td>NaN</td>\n",
              "    </tr>\n",
              "    <tr>\n",
              "      <th>2</th>\n",
              "      <td>2020-02-26</td>\n",
              "      <td>Brazil</td>\n",
              "      <td>SP</td>\n",
              "      <td>TOTAL</td>\n",
              "      <td>0</td>\n",
              "      <td>0</td>\n",
              "      <td>0</td>\n",
              "      <td>1</td>\n",
              "      <td>0</td>\n",
              "      <td>1</td>\n",
              "      <td>0.0</td>\n",
              "      <td>0.00218</td>\n",
              "      <td>0.0</td>\n",
              "      <td>NaN</td>\n",
              "    </tr>\n",
              "    <tr>\n",
              "      <th>3</th>\n",
              "      <td>2020-02-26</td>\n",
              "      <td>Brazil</td>\n",
              "      <td>TOTAL</td>\n",
              "      <td>TOTAL</td>\n",
              "      <td>0</td>\n",
              "      <td>0</td>\n",
              "      <td>0</td>\n",
              "      <td>1</td>\n",
              "      <td>0</td>\n",
              "      <td>1</td>\n",
              "      <td>0.0</td>\n",
              "      <td>0.00048</td>\n",
              "      <td>0.0</td>\n",
              "      <td>NaN</td>\n",
              "    </tr>\n",
              "    <tr>\n",
              "      <th>4</th>\n",
              "      <td>2020-02-27</td>\n",
              "      <td>Brazil</td>\n",
              "      <td>SP</td>\n",
              "      <td>TOTAL</td>\n",
              "      <td>0</td>\n",
              "      <td>0</td>\n",
              "      <td>0</td>\n",
              "      <td>1</td>\n",
              "      <td>0</td>\n",
              "      <td>1</td>\n",
              "      <td>0.0</td>\n",
              "      <td>0.00218</td>\n",
              "      <td>0.0</td>\n",
              "      <td>NaN</td>\n",
              "    </tr>\n",
              "  </tbody>\n",
              "</table>\n",
              "</div>"
            ],
            "text/plain": [
              "         date country  ... deaths_by_totalCases recovered\n",
              "0  2020-02-25  Brazil  ...                  0.0       NaN\n",
              "1  2020-02-25  Brazil  ...                  0.0       NaN\n",
              "2  2020-02-26  Brazil  ...                  0.0       NaN\n",
              "3  2020-02-26  Brazil  ...                  0.0       NaN\n",
              "4  2020-02-27  Brazil  ...                  0.0       NaN\n",
              "\n",
              "[5 rows x 14 columns]"
            ]
          },
          "metadata": {
            "tags": []
          },
          "execution_count": 115
        }
      ]
    },
    {
      "cell_type": "code",
      "metadata": {
        "id": "NDpQ-5Kqogq6",
        "colab_type": "code",
        "colab": {}
      },
      "source": [
        "arquivo.drop(columns = ['country', 'city', 'totalCases', 'deaths_per_100k_inhabitants', 'totalCases_per_100k_inhabitants', 'deathsMS', 'totalCasesMS', ], inplace=True)"
      ],
      "execution_count": 0,
      "outputs": []
    },
    {
      "cell_type": "code",
      "metadata": {
        "id": "G48R6J-mouim",
        "colab_type": "code",
        "colab": {}
      },
      "source": [
        "arquivo = arquivo.query('state != \"TOTAL\"')\n",
        "arquivo = arquivo.query('state == \"BA\"')\n",
        "arquivo.reset_index(inplace=True)\n",
        "arquivo.drop(columns = ['state', 'index'], inplace=True)"
      ],
      "execution_count": 0,
      "outputs": []
    },
    {
      "cell_type": "code",
      "metadata": {
        "id": "OTxam_B8pSxW",
        "colab_type": "code",
        "colab": {}
      },
      "source": [
        "arquivo.head()\n",
        "x_newC = arquivo['date']\n",
        "y_newC = arquivo['newCases']\n",
        "y_newD = arquivo['newDeaths']"
      ],
      "execution_count": 0,
      "outputs": []
    },
    {
      "cell_type": "code",
      "metadata": {
        "id": "QJW8UsCepxVu",
        "colab_type": "code",
        "outputId": "99d63158-d02d-421a-9bd0-558f9460b19a",
        "colab": {
          "base_uri": "https://localhost:8080/",
          "height": 272
        }
      },
      "source": [
        "newCases = go.Line(x=x_newC, y=y_newC, name = 'Novos Casos', mode='lines')\n",
        "newDeaths = go.Line(x = x_newC, y = y_newD, name = 'Novas Mortes', mode = 'lines')\n",
        "data = [newCases, newDeaths]\n",
        "layout = go.Layout(\n",
        "                   xaxis={'title':'Data(Mês/Dia/Ano)'},\n",
        "                   yaxis={'title':'Número de Casos/Mortes'},hovermode='x unified')\n",
        "config = {'displayModeBar':False, 'displayLogo':False, }\n",
        "figura = go.Figure(data = data, layout=layout)\n",
        "py.plot(figura, config=config, filename = 'Novos Casos-Mortes de COVID-19 na BA.html')"
      ],
      "execution_count": 0,
      "outputs": [
        {
          "output_type": "stream",
          "text": [
            "/usr/local/lib/python3.6/dist-packages/plotly/graph_objs/_deprecations.py:385: DeprecationWarning:\n",
            "\n",
            "plotly.graph_objs.Line is deprecated.\n",
            "Please replace it with one of the following more specific types\n",
            "  - plotly.graph_objs.scatter.Line\n",
            "  - plotly.graph_objs.layout.shape.Line\n",
            "  - etc.\n",
            "\n",
            "\n",
            "/usr/local/lib/python3.6/dist-packages/plotly/offline/offline.py:160: UserWarning:\n",
            "\n",
            "\n",
            "Unrecognized config options supplied: ['displayLogo']\n",
            "\n"
          ],
          "name": "stderr"
        },
        {
          "output_type": "execute_result",
          "data": {
            "text/plain": [
              "'Novos Casos-Mortes de COVID-19 na BA.html'"
            ]
          },
          "metadata": {
            "tags": []
          },
          "execution_count": 119
        }
      ]
    },
    {
      "cell_type": "code",
      "metadata": {
        "id": "e11JuezNqbDZ",
        "colab_type": "code",
        "outputId": "3ca73529-c560-4e29-8d46-7cc617f69708",
        "colab": {
          "base_uri": "https://localhost:8080/",
          "height": 34
        }
      },
      "source": [
        "if os.path.exists('/content/drive/My Drive/Colab Notebooks/Novos Casos-Mortes de COVID-19 na BA.html') == True:\n",
        "  os.remove('/content/drive/My Drive/Colab Notebooks/Novos Casos-Mortes de COVID-19 na BA.html')\n",
        "shutil.move('/content/Novos Casos-Mortes de COVID-19 na BA.html', '/content/drive/My Drive/Colab Notebooks')"
      ],
      "execution_count": 0,
      "outputs": [
        {
          "output_type": "execute_result",
          "data": {
            "text/plain": [
              "'/content/drive/My Drive/Colab Notebooks/Novos Casos-Mortes de COVID-19 na BA.html'"
            ]
          },
          "metadata": {
            "tags": []
          },
          "execution_count": 124
        }
      ]
    }
  ]
}